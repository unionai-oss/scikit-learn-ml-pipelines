{
 "cells": [
  {
   "cell_type": "markdown",
   "metadata": {},
   "source": [
    "# 🔄 Build an ML Pipeline with scikit-learn & Union\n",
    "\n",
    "<a target=\"_blank\" href=\"https://colab.research.google.com/github/unionai-oss/scikit-learn-ml-pipelines/blob/main/tutorial.ipynb\">\n",
    "  <img src=\"https://colab.research.google.com/assets/colab-badge.svg\" alt=\"Open In Colab\"/>\n",
    "</a>\n",
    "\n",
    "This tutorial will walk you through building an end-to-end machine learning pipeline using scikit-learn and Union's AI workflow and inference platform. We'll download a dataset, train a machine learning model, deploy it, and track its artifacts using Union's powerful MLOps features. Although this example may seem relatively simple, all the concepts and tools used here can be applied to more complex machine learning and AI projects.\n",
    "\n",
    "\n",
    "By just adding a few lines of code to your Python functions, you'll be able to create a reproducible ML pipeline, taking advantage of Union's features:\n",
    "\n",
    "- Reproducible AI workflows: Ensure your ML pipeline produces the same environments every time.\n",
    "- Versioning of code and artifacts: Track changes in your code and models automatically.\n",
    "- Data Caching for faster iterations: Reuse results from previous executions to save time.\n",
    "- Declarative Infrastructure: Define your ML infrastructure needs directly in your code without worrying about provisioning.\n",
    "- Artifact Management for models and data: Automatically manage your model files and datasets.\n",
    "- Container Image Builder: Build and deploy your code in a consistent environment.\n",
    "- Local Development: Test your workflows locally before deploying them to the cloud.\n",
    "- Actors for long-running stateful containers: Handle tasks that require continuous state or interaction.\n",
    "- And more...\n",
    "\n",
    "```python\n",
    "@task(\n",
    "    cache=True,\n",
    "    cache_version=\"4\",\n",
    "    container_image=image,\n",
    "    requests=Resources(cpu=\"2\", mem=\"2Gi\")\n",
    ")\n",
    "def download_data(): -> pd.DataFrame:\n",
    "    ...\n",
    "\n",
    "@task(\n",
    "    container_image=image,\n",
    "    requests=Resources(cpu=\"2\", mem=\"20Gi\", gpu=\"1\")\n",
    ")\n",
    "def train_model(data: pd.DataFrame:): -> pytorch.Model:\n",
    "    ...\n",
    "\n",
    "@workflow()\n",
    "def pipeline_workflow():\n",
    "    data = download_data()\n",
    "    train_model(data=data)\n",
    "    ...\n",
    "\n",
    "```\n",
    "\n",
    "\n",
    "## 🧰 Setup \n",
    "\n",
    "Sign up for a Union Serverless account at [Union.ai](https://union.ai) by clicking the \"Get Started\" button. No card required, and you'll get $30 in free credits to get started. Signing up can take a few minutes.\n",
    "\n",
    "Or you can use your [Union BYOC Enterprise](https://www.union.ai/pricing) login if you have one.\n",
    "\n",
    "### 📦 Install Python Packages & Clone Repo\n",
    "\n",
    "Packages can be installed in your local environment using the following command using your preferred package manager from the [requirements.txt](requirements.txt) file. For example `pip install -r requirements.txt`. \n",
    "\n",
    "to clone the repo, run the following command in your environment: `git clone `\n",
    "\n",
    "If you're running this notebook in a Google Colab environment, you can install the packages and clone the GitHub repo directly in the notebook by running the following cell:\n"
   ]
  },
  {
   "cell_type": "code",
   "execution_count": 15,
   "metadata": {},
   "outputs": [],
   "source": [
    "try:\n",
    "    import google.colab\n",
    "    IN_COLAB = True\n",
    "except ImportError:\n",
    "    IN_COLAB = False\n",
    "\n",
    "if IN_COLAB:\n",
    "    !git clone https://github.com/unionai-oss/scikit-learn-ml-pipelines\n",
    "    %cd scikit-learn-ml-pipelines\n",
    "    !pip install -r requirements.txt"
   ]
  },
  {
   "cell_type": "markdown",
   "metadata": {},
   "source": [
    "### 🔐 Authenticate\n",
    "\n",
    "If you're using [Union BYOC Enterprise](https://www.union.ai/pricing) use: `union create login --host <union-host-url>`\n",
    "\n",
    "Otherwise, Authenticate to [Union Serverless](https://www.union.ai/) by running the command below - create an account for free at [Union.ai](https://union.ai) if you don't have one:\n",
    " "
   ]
  },
  {
   "cell_type": "code",
   "execution_count": null,
   "metadata": {},
   "outputs": [
    {
     "name": "stdout",
     "output_type": "stream",
     "text": [
      "🔐 \u001b[33mConfiguration saved to \u001b[0m\u001b[33m/Users/sageelliott/.union/\u001b[0m\u001b[33mconfig.yaml\u001b[0m\n",
      "Login successful into \u001b[1;32mserverless\u001b[0m\n"
     ]
    }
   ],
   "source": [
    "!union create login --serverless --auth device-flow"
   ]
  },
  {
   "cell_type": "markdown",
   "metadata": {},
   "source": [
    "## 🧩 Create a Simple Workflow\n",
    "\n",
    "Before we build our ML pipeline lets build a simple workflow to understand the basics of Union's workflow system.\n",
    "\n",
    "`ImageSpec` - Allows you to specify the environment in which your task will run directly in your Python code. This includes the Python packages, CUDA version, and any additional environment setup you need. When a task is run, Union will automatically build a container image with the specified environment if it doens't already exsist and run the task in that container.\n",
    "\n",
    "`Tasks` - Tasks are the building blocks of workflows. They allow you to define a unit of work and what infrastructure to us.\n",
    "\n",
    "`Workflows` - A workflow is a collection of tasks that and defines data flow. Workflows can be run locally or in the cloud.\n",
    "\n",
    "Both tasks workflows are strongly typed\n"
   ]
  },
  {
   "cell_type": "code",
   "execution_count": 32,
   "metadata": {},
   "outputs": [],
   "source": [
    "import flytekit as fl\n",
    "import pandas as pd\n",
    "import sys\n",
    "\n",
    "\n",
    "image = fl.ImageSpec(\n",
    "    name=\"notebook-example\",\n",
    "    packages=[\n",
    "        \"flytekit==1.15.0\",\n",
    "        \"union==0.1.144\",\n",
    "    ],\n",
    "    python_version=f\"{sys.version_info.major}.{sys.version_info.minor}\",\n",
    ")\n",
    "\n",
    "# task = fl.task(container_image=image)\n",
    "\n",
    "@fl.task(container_image=image)\n",
    "def hello_world(name: str) -> str:\n",
    "    \"\"\"Returns a greeting.\"\"\"\n",
    "    return f\"Hello, {name}!\"\n",
    "\n",
    "@fl.workflow\n",
    "def my_workflow(name: str =\"union.ai\") -> str:\n",
    "    return hello_world(name=name)"
   ]
  },
  {
   "cell_type": "code",
   "execution_count": 33,
   "metadata": {},
   "outputs": [
    {
     "data": {
      "text/html": [
       "<pre style=\"white-space:pre;overflow-x:auto;line-height:normal;font-family:Menlo,'DejaVu Sans Mono',consolas,'Courier New',monospace\"><span style=\"color: #7fbfbf; text-decoration-color: #7fbfbf\">20:23:14.284707 </span><span style=\"color: #808000; text-decoration-color: #808000\">WARNING </span> remote.py:<span style=\"color: #008080; text-decoration-color: #008080; font-weight: bold\">293</span> - Jupyter notebook and interactive task  \n",
       "<span style=\"color: #7fbfbf; text-decoration-color: #7fbfbf\">                </span>         support is still alpha.                                \n",
       "</pre>\n"
      ],
      "text/plain": [
       "\u001b[2;36m20:23:14.284707\u001b[0m\u001b[2;36m \u001b[0m\u001b[33mWARNING \u001b[0m remote.py:\u001b[1;36m293\u001b[0m - Jupyter notebook and interactive task  \n",
       "\u001b[2;36m                \u001b[0m         support is still alpha.                                \n"
      ]
     },
     "metadata": {},
     "output_type": "display_data"
    }
   ],
   "source": [
    "from union.remote import UnionRemote\n",
    "serverless = UnionRemote()"
   ]
  },
  {
   "cell_type": "code",
   "execution_count": 34,
   "metadata": {},
   "outputs": [
    {
     "data": {
      "text/html": [
       "<pre style=\"white-space:pre;overflow-x:auto;line-height:normal;font-family:Menlo,'DejaVu Sans Mono',consolas,'Courier New',monospace\"><span style=\"color: #7fbfbf; text-decoration-color: #7fbfbf\">20:23:41.988159 </span><span style=\"color: #808000; text-decoration-color: #808000\">WARNING </span> remote.py:<span style=\"color: #008080; text-decoration-color: #008080; font-weight: bold\">293</span> - Jupyter notebook and interactive task  \n",
       "<span style=\"color: #7fbfbf; text-decoration-color: #7fbfbf\">                </span>         support is still alpha.                                \n",
       "</pre>\n"
      ],
      "text/plain": [
       "\u001b[2;36m20:23:41.988159\u001b[0m\u001b[2;36m \u001b[0m\u001b[33mWARNING \u001b[0m remote.py:\u001b[1;36m293\u001b[0m - Jupyter notebook and interactive task  \n",
       "\u001b[2;36m                \u001b[0m         support is still alpha.                                \n"
      ]
     },
     "metadata": {},
     "output_type": "display_data"
    },
    {
     "name": "stdout",
     "output_type": "stream",
     "text": [
      "\u001b[34mImage notebook-example:2_vWc6HpkiQPaUm3f1PbWg was not found or has expired.\u001b[0m\n",
      "\u001b[34m\u001b[1m🐳 Submitting a new build...\u001b[0m\n"
     ]
    },
    {
     "data": {
      "text/html": [
       "<pre style=\"white-space:pre;overflow-x:auto;line-height:normal;font-family:Menlo,'DejaVu Sans Mono',consolas,'Courier New',monospace\"><span style=\"color: #7fbfbf; text-decoration-color: #7fbfbf\">20:23:44.083824 </span><span style=\"color: #808000; text-decoration-color: #808000\">WARNING </span> remote.py:<span style=\"color: #008080; text-decoration-color: #008080; font-weight: bold\">293</span> - Jupyter notebook and interactive task  \n",
       "<span style=\"color: #7fbfbf; text-decoration-color: #7fbfbf\">                </span>         support is still alpha.                                \n",
       "</pre>\n"
      ],
      "text/plain": [
       "\u001b[2;36m20:23:44.083824\u001b[0m\u001b[2;36m \u001b[0m\u001b[33mWARNING \u001b[0m remote.py:\u001b[1;36m293\u001b[0m - Jupyter notebook and interactive task  \n",
       "\u001b[2;36m                \u001b[0m         support is still alpha.                                \n"
      ]
     },
     "metadata": {},
     "output_type": "display_data"
    },
    {
     "name": "stdout",
     "output_type": "stream",
     "text": [
      "\u001b[33m\u001b[1m👍 Build submitted!\u001b[0m\n",
      "\u001b[1m⏳ Waiting for build to finish at: \u001b[36mhttps://serverless.union.ai/org/sagecodes/projects/system/domains/production/executions/ah4xl7829bdjp9wb4jns\u001b[0m\u001b[0m\n",
      "\u001b[32m\u001b[1m✅ Build completed in 0:00:24!\u001b[0m\n"
     ]
    },
    {
     "data": {
      "text/html": [
       "<b>Execution is in-progress. </b> <a href='https://serverless.union.ai/org/sagecodes/projects/default/domains/development/executions/afqwwpn4lj9czvzq8lmf'>https://serverless.union.ai/org/sagecodes/projects/default/domains/development/executions/afqwwpn4lj9czvzq8lmf</a>"
      ],
      "text/plain": [
       "Flyte Serialized object (FlyteWorkflowExecution):\n",
       "  id:\n",
       "    project: default\n",
       "    domain: development\n",
       "    name: afqwwpn4lj9czvzq8lmf\n",
       "  spec:\n",
       "    launch_plan:\n",
       "      resource_type: 3\n",
       "      project: default\n",
       "      domain: development\n",
       "      name: my_workflow\n",
       "      version: dbj1pYkneb-X9Y0Z9sWHJw\n",
       "    metadata:\n",
       "      principal: 00ugcrzo37k3huEiU5d7\n",
       "  closure:\n",
       "    created_at:\n",
       "      seconds: 1739939049\n",
       "      nanos: 811509000\n",
       "    updated_at:\n",
       "      seconds: 1739939049\n",
       "      nanos: 811509000"
      ]
     },
     "execution_count": 34,
     "metadata": {},
     "output_type": "execute_result"
    }
   ],
   "source": [
    "exe = serverless.execute(my_workflow, inputs={\"name\": \"Flyte\"})\n",
    "exe"
   ]
  },
  {
   "cell_type": "code",
   "execution_count": 35,
   "metadata": {},
   "outputs": [
    {
     "data": {
      "text/plain": [
       "'Hello, Flyte!'"
      ]
     },
     "execution_count": 35,
     "metadata": {},
     "output_type": "execute_result"
    }
   ],
   "source": [
    "exe.wait(poll_interval=1)\n",
    "dataframe = exe.outputs['o0']\n",
    "dataframe"
   ]
  },
  {
   "cell_type": "markdown",
   "metadata": {},
   "source": [
    "## 🔀 ML Model Training Pipeline\n",
    "\n",
    "In this sections we'll be running tasks and workflows defined in Python under the relevant folders. \n",
    "\n",
    "Navigate to the `tasks` and `workflows` folders to see the code. if you're following along in a hosted jupyter notebook you should be able to view the code by clicking on a folder icon (usually on the left side of the screen).\n",
    "\n",
    "First we'll create a machine learning pipeline that trains a model on the iris dataset.\n",
    "\n",
    "Our workflow will have the following steps:\n",
    "- Load the iris dataset\n",
    "- Split the dataset into training and testing sets\n",
    "- Train a Random Forest model\n",
    "- Evaluate the model\n",
    "- Save model as an artifact\n",
    "- run a prediction with new data\n",
    "\n",
    "Note: Data pipelines could be seperate from model training pipelines for more complex pipelines. In this example we'll keep it simple and combine them into one workflow.\n",
    "\n",
    "navigate to the [workflows/workflows.py](workflows/workflows.py`workflows.py) file. Find `train_iris_classification()` function to see the code for the workflow. This workflow uses tasks defined in the [/tasks](tasks/data.py) folder and builds a container image from [container.py](containers.py)."
   ]
  },
  {
   "cell_type": "code",
   "execution_count": 21,
   "metadata": {},
   "outputs": [
    {
     "name": "stdout",
     "output_type": "stream",
     "text": [
      "\u001b[36mRunning Execution on Remote.\u001b[0m\n",
      "\u001b[34mImage flytekit:17ryEc3h1qj5D_caqMlI6w found. Skip building.\u001b[0m\n",
      "\u001b[2K\u001b[33m0:00:00\u001b[0m Running execution on remote.\u001b[32m\n",
      "[✔] \u001b[0mGo to \u001b[36mhttps://serverless.union.ai/org/sagecodes/projects/default/domains/development/executions/av498gzzlfcvqcflfsg2\u001b[0m to see execution in the console.\n",
      "\u001b[2K\u001b[33m0:00:00\u001b[0m Running execution on remote.\n",
      "\u001b[1A\u001b[2K"
     ]
    }
   ],
   "source": [
    "!union run --remote workflows/workflows.py train_iris_classification"
   ]
  },
  {
   "cell_type": "markdown",
   "metadata": {},
   "source": [
    "The `--remote` flag is used to run the workflow in the cloud. If you want to run the workflow locally, you can remove the flag.\n",
    "\n",
    "Often times you may want to run a workflow locally to test it before running it in the cloud. This is especially useful when you're developing a new workflow or debugging an existing one.\n",
    "\n",
    "It can be useful to do some things different when running locally, like using a subset of data, save files in a different format for debugging, etc. to trigger a section of code when running locally you can use can check for `\"FLYTE_INTERNAL_EXECUTION_ID\"` variable in the code. If it's not present, the code is running locally.\n",
    "\n",
    "```python\n",
    "if \"FLYTE_INTERNAL_EXECUTION_ID\" not in os.environ:\n",
    "    # Only run this code locally\n",
    "```\n",
    "\n",
    "Take a look at your pipeline in the Union UI. You can relaunch workflows/tasks, view logs, and see the artifacts generated by the workflow.\n",
    "\n",
    "\n",
    "\n",
    "### Union Remote\n",
    "\n"
   ]
  },
  {
   "cell_type": "code",
   "execution_count": 22,
   "metadata": {},
   "outputs": [
    {
     "data": {
      "text/html": [
       "<pre style=\"white-space:pre;overflow-x:auto;line-height:normal;font-family:Menlo,'DejaVu Sans Mono',consolas,'Courier New',monospace\"><span style=\"color: #7fbfbf; text-decoration-color: #7fbfbf\">14:43:50.653077 </span><span style=\"color: #808000; text-decoration-color: #808000\">WARNING </span> remote.py:<span style=\"color: #008080; text-decoration-color: #008080; font-weight: bold\">293</span> - Jupyter notebook and interactive task  \n",
       "<span style=\"color: #7fbfbf; text-decoration-color: #7fbfbf\">                </span>         support is still alpha.                                \n",
       "</pre>\n"
      ],
      "text/plain": [
       "\u001b[2;36m14:43:50.653077\u001b[0m\u001b[2;36m \u001b[0m\u001b[33mWARNING \u001b[0m remote.py:\u001b[1;36m293\u001b[0m - Jupyter notebook and interactive task  \n",
       "\u001b[2;36m                \u001b[0m         support is still alpha.                                \n"
      ]
     },
     "metadata": {},
     "output_type": "display_data"
    }
   ],
   "source": [
    "from union.remote import UnionRemote\n",
    "remote = UnionRemote()\n",
    "\n",
    "def get_latest_execution_model(limit=100):\n",
    "\n",
    "  recent_executions = remote.recent_executions(limit=limit)\n",
    "  executions = [\n",
    "      e for e in recent_executions if e.spec.launch_plan.name == \"workflows.workflows.train_iris_classification\"\n",
    "  ]\n",
    "\n",
    "  recent_ex_id = executions[0].id.name\n",
    "  execution = remote.fetch_execution(name=recent_ex_id)\n",
    "  model_uri = execution.outputs[\"o0\"].remote_source\n",
    "\n",
    "  return model_uri"
   ]
  },
  {
   "cell_type": "code",
   "execution_count": 23,
   "metadata": {},
   "outputs": [
    {
     "data": {
      "text/html": [
       "<pre style=\"white-space:pre;overflow-x:auto;line-height:normal;font-family:Menlo,'DejaVu Sans Mono',consolas,'Courier New',monospace\"><span style=\"color: #800000; text-decoration-color: #800000\">╭─────────────────────────────────────── </span><span style=\"color: #800000; text-decoration-color: #800000; font-weight: bold\">Traceback </span><span style=\"color: #bf7f7f; text-decoration-color: #bf7f7f; font-weight: bold\">(most recent call last)</span><span style=\"color: #800000; text-decoration-color: #800000\"> ───────────────────────────────────────╮</span>\n",
       "<span style=\"color: #800000; text-decoration-color: #800000\">│</span> in <span style=\"color: #00ff00; text-decoration-color: #00ff00\">&lt;module&gt;</span>:<span style=\"color: #0000ff; text-decoration-color: #0000ff\">1</span>                                                                                                   <span style=\"color: #800000; text-decoration-color: #800000\">│</span>\n",
       "<span style=\"color: #800000; text-decoration-color: #800000\">│</span>                                                                                                                 <span style=\"color: #800000; text-decoration-color: #800000\">│</span>\n",
       "<span style=\"color: #800000; text-decoration-color: #800000\">│</span> <span style=\"color: #800000; text-decoration-color: #800000\">❱ </span>1 model_uri = get_latest_execution_model()                                                                    <span style=\"color: #800000; text-decoration-color: #800000\">│</span>\n",
       "<span style=\"color: #800000; text-decoration-color: #800000\">│</span>                                                                                                                 <span style=\"color: #800000; text-decoration-color: #800000\">│</span>\n",
       "<span style=\"color: #800000; text-decoration-color: #800000\">│</span> in <span style=\"color: #00ff00; text-decoration-color: #00ff00\">get_latest_execution_model</span>:<span style=\"color: #0000ff; text-decoration-color: #0000ff\">13</span>                                                                                <span style=\"color: #800000; text-decoration-color: #800000\">│</span>\n",
       "<span style=\"color: #800000; text-decoration-color: #800000\">│</span>                                                                                                                 <span style=\"color: #800000; text-decoration-color: #800000\">│</span>\n",
       "<span style=\"color: #800000; text-decoration-color: #800000\">│</span> <span style=\"color: #800000; text-decoration-color: #800000\">❱ </span>13 <span style=\"color: #7f7f7f; text-decoration-color: #7f7f7f\">  </span>model_uri = execution.outputs[<span style=\"color: #808000; text-decoration-color: #808000\">\"o0\"</span>].remote_source                                                        <span style=\"color: #800000; text-decoration-color: #800000\">│</span>\n",
       "<span style=\"color: #800000; text-decoration-color: #800000\">│</span>                                                                                                                 <span style=\"color: #800000; text-decoration-color: #800000\">│</span>\n",
       "<span style=\"color: #800000; text-decoration-color: #800000\">│</span> <span style=\"color: #bfbf7f; text-decoration-color: #bfbf7f\">/Users/sageelliott/.pyenv/versions/3.11.9/lib/python3.11/site-packages/flytekit/remote/</span><span style=\"color: #808000; text-decoration-color: #808000; font-weight: bold\">executions.py</span>:<span style=\"color: #0000ff; text-decoration-color: #0000ff\">154</span> in     <span style=\"color: #800000; text-decoration-color: #800000\">│</span>\n",
       "<span style=\"color: #800000; text-decoration-color: #800000\">│</span> <span style=\"color: #00ff00; text-decoration-color: #00ff00\">outputs</span>                                                                                                         <span style=\"color: #800000; text-decoration-color: #800000\">│</span>\n",
       "<span style=\"color: #800000; text-decoration-color: #800000\">│</span>                                                                                                                 <span style=\"color: #800000; text-decoration-color: #800000\">│</span>\n",
       "<span style=\"color: #800000; text-decoration-color: #800000\">│</span> <span style=\"color: #800000; text-decoration-color: #800000\">❱ </span>154 <span style=\"color: #7f7f7f; text-decoration-color: #7f7f7f\">│   │   </span>outputs = <span style=\"color: #00ffff; text-decoration-color: #00ffff\">super</span>().outputs                                                                         <span style=\"color: #800000; text-decoration-color: #800000\">│</span>\n",
       "<span style=\"color: #800000; text-decoration-color: #800000\">│</span>                                                                                                                 <span style=\"color: #800000; text-decoration-color: #800000\">│</span>\n",
       "<span style=\"color: #800000; text-decoration-color: #800000\">│</span> <span style=\"color: #bfbf7f; text-decoration-color: #bfbf7f\">/Users/sageelliott/.pyenv/versions/3.11.9/lib/python3.11/site-packages/flytekit/remote/</span><span style=\"color: #808000; text-decoration-color: #808000; font-weight: bold\">executions.py</span>:<span style=\"color: #0000ff; text-decoration-color: #0000ff\">43</span> in      <span style=\"color: #800000; text-decoration-color: #800000\">│</span>\n",
       "<span style=\"color: #800000; text-decoration-color: #800000\">│</span> <span style=\"color: #00ff00; text-decoration-color: #00ff00\">outputs</span>                                                                                                         <span style=\"color: #800000; text-decoration-color: #800000\">│</span>\n",
       "<span style=\"color: #800000; text-decoration-color: #800000\">│</span>                                                                                                                 <span style=\"color: #800000; text-decoration-color: #800000\">│</span>\n",
       "<span style=\"color: #800000; text-decoration-color: #800000\">│</span> <span style=\"color: #800000; text-decoration-color: #800000\">❱ </span> 43 <span style=\"color: #7f7f7f; text-decoration-color: #7f7f7f\">│   │   │   </span><span style=\"color: #0000ff; text-decoration-color: #0000ff\">raise</span> user_exceptions.FlyteAssertion(                                                         <span style=\"color: #800000; text-decoration-color: #800000\">│</span>\n",
       "<span style=\"color: #800000; text-decoration-color: #800000\">╰─────────────────────────────────────────────────────────────────────────────────────────────────────────────────╯</span>\n",
       "<span style=\"color: #ff0000; text-decoration-color: #ff0000; font-weight: bold\">FlyteAssertion: </span>USER:AssertionError: <span style=\"color: #808000; text-decoration-color: #808000\">error</span>=<span style=\"color: #800080; text-decoration-color: #800080\">Please</span> wait until the execution has completed before requesting the \n",
       "outputs.\n",
       "</pre>\n"
      ],
      "text/plain": [
       "\u001b[31m╭─\u001b[0m\u001b[31m──────────────────────────────────────\u001b[0m\u001b[31m \u001b[0m\u001b[1;31mTraceback \u001b[0m\u001b[1;2;31m(most recent call last)\u001b[0m\u001b[31m \u001b[0m\u001b[31m──────────────────────────────────────\u001b[0m\u001b[31m─╮\u001b[0m\n",
       "\u001b[31m│\u001b[0m in \u001b[92m<module>\u001b[0m:\u001b[94m1\u001b[0m                                                                                                   \u001b[31m│\u001b[0m\n",
       "\u001b[31m│\u001b[0m                                                                                                                 \u001b[31m│\u001b[0m\n",
       "\u001b[31m│\u001b[0m \u001b[31m❱ \u001b[0m1 model_uri = get_latest_execution_model()                                                                    \u001b[31m│\u001b[0m\n",
       "\u001b[31m│\u001b[0m                                                                                                                 \u001b[31m│\u001b[0m\n",
       "\u001b[31m│\u001b[0m in \u001b[92mget_latest_execution_model\u001b[0m:\u001b[94m13\u001b[0m                                                                                \u001b[31m│\u001b[0m\n",
       "\u001b[31m│\u001b[0m                                                                                                                 \u001b[31m│\u001b[0m\n",
       "\u001b[31m│\u001b[0m \u001b[31m❱ \u001b[0m13 \u001b[2m  \u001b[0mmodel_uri = execution.outputs[\u001b[33m\"\u001b[0m\u001b[33mo0\u001b[0m\u001b[33m\"\u001b[0m].remote_source                                                        \u001b[31m│\u001b[0m\n",
       "\u001b[31m│\u001b[0m                                                                                                                 \u001b[31m│\u001b[0m\n",
       "\u001b[31m│\u001b[0m \u001b[2;33m/Users/sageelliott/.pyenv/versions/3.11.9/lib/python3.11/site-packages/flytekit/remote/\u001b[0m\u001b[1;33mexecutions.py\u001b[0m:\u001b[94m154\u001b[0m in     \u001b[31m│\u001b[0m\n",
       "\u001b[31m│\u001b[0m \u001b[92moutputs\u001b[0m                                                                                                         \u001b[31m│\u001b[0m\n",
       "\u001b[31m│\u001b[0m                                                                                                                 \u001b[31m│\u001b[0m\n",
       "\u001b[31m│\u001b[0m \u001b[31m❱ \u001b[0m154 \u001b[2m│   │   \u001b[0moutputs = \u001b[96msuper\u001b[0m().outputs                                                                         \u001b[31m│\u001b[0m\n",
       "\u001b[31m│\u001b[0m                                                                                                                 \u001b[31m│\u001b[0m\n",
       "\u001b[31m│\u001b[0m \u001b[2;33m/Users/sageelliott/.pyenv/versions/3.11.9/lib/python3.11/site-packages/flytekit/remote/\u001b[0m\u001b[1;33mexecutions.py\u001b[0m:\u001b[94m43\u001b[0m in      \u001b[31m│\u001b[0m\n",
       "\u001b[31m│\u001b[0m \u001b[92moutputs\u001b[0m                                                                                                         \u001b[31m│\u001b[0m\n",
       "\u001b[31m│\u001b[0m                                                                                                                 \u001b[31m│\u001b[0m\n",
       "\u001b[31m│\u001b[0m \u001b[31m❱ \u001b[0m 43 \u001b[2m│   │   │   \u001b[0m\u001b[94mraise\u001b[0m user_exceptions.FlyteAssertion(                                                         \u001b[31m│\u001b[0m\n",
       "\u001b[31m╰─────────────────────────────────────────────────────────────────────────────────────────────────────────────────╯\u001b[0m\n",
       "\u001b[1;91mFlyteAssertion: \u001b[0mUSER:AssertionError: \u001b[33merror\u001b[0m=\u001b[35mPlease\u001b[0m wait until the execution has completed before requesting the \n",
       "outputs.\n"
      ]
     },
     "metadata": {},
     "output_type": "display_data"
    }
   ],
   "source": [
    "model_uri = get_latest_execution_model()\n",
    "print(model_uri)"
   ]
  },
  {
   "cell_type": "code",
   "execution_count": 5,
   "metadata": {},
   "outputs": [],
   "source": [
    "from flytekit import FlyteFile  \n",
    "def make_prediction(model_uri, pred_data):\n",
    "\n",
    "  predict_task = remote.fetch_task(name=\"tasks.predict.batch_knn_predict\")\n",
    "\n",
    "\n",
    "  inputs = {\n",
    "      \"pred_data\": pred_data,\n",
    "      \"model\": FlyteFile(model_uri)\n",
    "  }\n",
    "\n",
    "  # Execute the task\n",
    "  execution = remote.execute(predict_task, inputs=inputs, wait=True)\n",
    "\n",
    "  response = execution.outputs[\"o0\"]\n",
    "\n",
    "  return response\n"
   ]
  },
  {
   "cell_type": "code",
   "execution_count": 6,
   "metadata": {},
   "outputs": [
    {
     "name": "stdout",
     "output_type": "stream",
     "text": [
      "[0]\n"
     ]
    }
   ],
   "source": [
    "print(make_prediction(model_uri, [[-3.0,-5.3,-6.3,-5.0]]))"
   ]
  },
  {
   "cell_type": "code",
   "execution_count": 12,
   "metadata": {},
   "outputs": [],
   "source": [
    "#todo: load model locally\n"
   ]
  },
  {
   "cell_type": "markdown",
   "metadata": {},
   "source": [
    "## 🚀 Model Serving & Artifacts\n",
    "\n",
    "In this tutorial we'll show you the common ways to serve a model using Union, but you can also download or move the model to your own infrastructure.\n",
    "\n",
    "- Use a regular containers for batch inference\n",
    "- Use Actors (long running stateful) for near real-time inference\n",
    "- Serve the model and application interface within Union"
   ]
  },
  {
   "cell_type": "markdown",
   "metadata": {},
   "source": [
    "### Batch Prediction ML Workflow\n",
    "The training workflow produced a model artifact that we can use to make predictions on new data.\n",
    "\n",
    "Lets run our first prediction worflow. This workflow ... We'll see how we can use actors to run long running tasks next for faster predictions."
   ]
  },
  {
   "cell_type": "code",
   "execution_count": null,
   "metadata": {},
   "outputs": [],
   "source": [
    "# !union run --remote workflows/workflows.py batch_prediction_knn"
   ]
  },
  {
   "cell_type": "code",
   "execution_count": 28,
   "metadata": {},
   "outputs": [
    {
     "name": "stdout",
     "output_type": "stream",
     "text": [
      "\u001b[2mRunning pyflyte register from /Users/sageelliott/Documents/gitrepos/tut-sklearn-pipelines with images ImageConfig(default_image=Image(name='default', fqn='cr.union.ai/v1/unionai/union', tag='py3.11-0.1.144', digest=None), images=[Image(name='default', fqn='cr.union.ai/v1/unionai/union', tag='py3.11-0.1.144', digest=None)]) and image destination folder /root on 1 package(s) ('/Users/sageelliott/Documents/gitrepos/tut-sklearn-pipelines/workflows/workflows.py',)\u001b[0m\n",
      "Registering against serverless-1.us-east-2.s.union.ai\u001b[0m\n",
      "\u001b[33mDetected Root /Users/sageelliott/Documents/gitrepos/tut-sklearn-pipelines, using this to create deployable package...\u001b[0m\n",
      "\u001b[33mLoading packages ['workflows.workflows'] under source root /Users/sageelliott/Documents/gitrepos/tut-sklearn-pipelines\u001b[0m\n",
      "\u001b[33mNo output path provided, using a temporary directory at /var/folders/nv/hcrpygqd6xvd6m2cf6w3pbvc0000gn/T/tmp7la_ztqg instead\u001b[0m\n",
      "\u001b[33mComputed version is FUmTmF2y099t7bgASyTmzg\u001b[0m\n",
      "\u001b[34mImage flytekit:17ryEc3h1qj5D_caqMlI6w found. Skip building.\u001b[0m\n",
      "\u001b[32mSerializing and registering 13 flyte entities\u001b[0m\n",
      "\u001b[1;32m[\u001b[0m\u001b[32m✔\u001b[0m\u001b[1;32m]\u001b[0m\u001b[32m Task: \u001b[0m\u001b]8;id=546771;https://serverless.union.ai/org/sagecodes/projects/default/domains/development/task/tasks.predict.batch_knn_predict/version/FUmTmF2y099t7bgASyTmzg\u001b\\\u001b[4;36mtasks.predict.batch_knn_predict\u001b[0m\u001b]8;;\u001b\\\n",
      "\u001b[1;32m[\u001b[0m\u001b[32m✔\u001b[0m\u001b[1;32m]\u001b[0m\u001b[32m Task: \u001b[0m\u001b]8;id=919805;https://serverless.union.ai/org/sagecodes/projects/default/domains/development/task/tasks.evaluate.evaluate_model/version/FUmTmF2y099t7bgASyTmzg\u001b\\\u001b[4;36mtasks.evaluate.evaluate_model\u001b[0m\u001b]8;;\u001b\\\n",
      "\u001b[1;32m[\u001b[0m\u001b[32m✔\u001b[0m\u001b[1;32m]\u001b[0m\u001b[32m Task: \u001b[0m\u001b]8;id=498950;https://serverless.union.ai/org/sagecodes/projects/default/domains/development/task/tasks.predict.actor_model_predict/version/FUmTmF2y099t7bgASyTmzg\u001b\\\u001b[4;36mtasks.predict.actor_model_predict\u001b[0m\u001b]8;;\u001b\\\n",
      "\u001b[1;32m[\u001b[0m\u001b[32m✔\u001b[0m\u001b[1;32m]\u001b[0m\u001b[32m Task: \u001b[0m\u001b]8;id=385302;https://serverless.union.ai/org/sagecodes/projects/default/domains/development/task/tasks.predict.actor_knn_predict/version/FUmTmF2y099t7bgASyTmzg\u001b\\\u001b[4;36mtasks.predict.actor_knn_predict\u001b[0m\u001b]8;;\u001b\\\n",
      "\u001b[1;32m[\u001b[0m\u001b[32m✔\u001b[0m\u001b[1;32m]\u001b[0m\u001b[32m Task: \u001b[0m\u001b]8;id=825081;https://serverless.union.ai/org/sagecodes/projects/default/domains/development/task/tasks.data.download_iris_dataset/version/FUmTmF2y099t7bgASyTmzg\u001b\\\u001b[4;36mtasks.data.download_iris_dataset\u001b[0m\u001b]8;;\u001b\\\n",
      "\u001b[1;32m[\u001b[0m\u001b[32m✔\u001b[0m\u001b[1;32m]\u001b[0m\u001b[32m Task: \u001b[0m\u001b]8;id=898252;https://serverless.union.ai/org/sagecodes/projects/default/domains/development/task/tasks.data.process_dataset/version/FUmTmF2y099t7bgASyTmzg\u001b\\\u001b[4;36mtasks.data.process_dataset\u001b[0m\u001b]8;;\u001b\\\n",
      "\u001b[1;32m[\u001b[0m\u001b[32m✔\u001b[0m\u001b[1;32m]\u001b[0m\u001b[32m Task: \u001b[0m\u001b]8;id=224488;https://serverless.union.ai/org/sagecodes/projects/default/domains/development/task/tasks.train.train_knn_model/version/FUmTmF2y099t7bgASyTmzg\u001b\\\u001b[4;36mtasks.train.train_knn_model\u001b[0m\u001b]8;;\u001b\\\n",
      "\u001b[1;32m[\u001b[0m\u001b[32m✔\u001b[0m\u001b[1;32m]\u001b[0m\u001b[32m Workflow: \u001b[0m\u001b]8;id=391664;https://serverless.union.ai/org/sagecodes/projects/default/domains/development/workflow/workflows.workflows.train_iris_classification/version/FUmTmF2y099t7bgASyTmzg\u001b\\\u001b[4;36mworkflows.workflows.train_iris_classification\u001b[0m\u001b]8;;\u001b\\\n",
      "\u001b[1;32m[\u001b[0m\u001b[32m✔\u001b[0m\u001b[1;32m]\u001b[0m\u001b[32m Launch Plan: \u001b[0m\u001b]8;id=713412;https://serverless.union.ai/org/sagecodes/projects/default/domains/development/launch_plan/workflows.workflows.train_iris_classification/version/FUmTmF2y099t7bgASyTmzg\u001b\\\u001b[4;36mworkflows.workflows.train_iris_classification\u001b[0m\u001b]8;;\u001b\\\n",
      "\u001b[1;32m[\u001b[0m\u001b[32m✔\u001b[0m\u001b[1;32m]\u001b[0m\u001b[32m Workflow: \u001b[0m\u001b]8;id=42872;https://serverless.union.ai/org/sagecodes/projects/default/domains/development/workflow/workflows.workflows.batch_prediction_knn/version/FUmTmF2y099t7bgASyTmzg\u001b\\\u001b[4;36mworkflows.workflows.batch_prediction_knn\u001b[0m\u001b]8;;\u001b\\\n",
      "\u001b[1;32m[\u001b[0m\u001b[32m✔\u001b[0m\u001b[1;32m]\u001b[0m\u001b[32m Launch Plan: \u001b[0m\u001b]8;id=298136;https://serverless.union.ai/org/sagecodes/projects/default/domains/development/launch_plan/workflows.workflows.batch_prediction_knn/version/FUmTmF2y099t7bgASyTmzg\u001b\\\u001b[4;36mworkflows.workflows.batch_prediction_knn\u001b[0m\u001b]8;;\u001b\\\n",
      "\u001b[1;32m[\u001b[0m\u001b[32m✔\u001b[0m\u001b[1;32m]\u001b[0m\u001b[32m Workflow: \u001b[0m\u001b]8;id=848310;https://serverless.union.ai/org/sagecodes/projects/default/domains/development/workflow/workflows.workflows.actor_prediction_knn/version/FUmTmF2y099t7bgASyTmzg\u001b\\\u001b[4;36mworkflows.workflows.actor_prediction_knn\u001b[0m\u001b]8;;\u001b\\\n",
      "\u001b[1;32m[\u001b[0m\u001b[32m✔\u001b[0m\u001b[1;32m]\u001b[0m\u001b[32m Launch Plan: \u001b[0m\u001b]8;id=455018;https://serverless.union.ai/org/sagecodes/projects/default/domains/development/launch_plan/workflows.workflows.actor_prediction_knn/version/FUmTmF2y099t7bgASyTmzg\u001b\\\u001b[4;36mworkflows.workflows.actor_prediction_knn\u001b[0m\u001b]8;;\u001b\\\n",
      "\u001b[32mSuccessfully registered 13 entities\u001b[0m\n"
     ]
    }
   ],
   "source": [
    "!union register workflows/workflows.py"
   ]
  },
  {
   "cell_type": "code",
   "execution_count": 29,
   "metadata": {},
   "outputs": [
    {
     "data": {
      "text/html": [
       "<pre style=\"white-space:pre;overflow-x:auto;line-height:normal;font-family:Menlo,'DejaVu Sans Mono',consolas,'Courier New',monospace\"><span style=\"color: #7fbfbf; text-decoration-color: #7fbfbf\">20:14:17.472163 </span><span style=\"color: #808000; text-decoration-color: #808000\">WARNING </span> remote.py:<span style=\"color: #008080; text-decoration-color: #008080; font-weight: bold\">293</span> - Jupyter notebook and interactive task  \n",
       "<span style=\"color: #7fbfbf; text-decoration-color: #7fbfbf\">                </span>         support is still alpha.                                \n",
       "</pre>\n"
      ],
      "text/plain": [
       "\u001b[2;36m20:14:17.472163\u001b[0m\u001b[2;36m \u001b[0m\u001b[33mWARNING \u001b[0m remote.py:\u001b[1;36m293\u001b[0m - Jupyter notebook and interactive task  \n",
       "\u001b[2;36m                \u001b[0m         support is still alpha.                                \n"
      ]
     },
     "metadata": {},
     "output_type": "display_data"
    }
   ],
   "source": [
    "from union.remote import UnionRemote\n",
    "# Create a remote connection\n",
    "remote = UnionRemote()"
   ]
  },
  {
   "cell_type": "code",
   "execution_count": 9,
   "metadata": {},
   "outputs": [],
   "source": [
    "def predict_with_container(data):\n",
    "\n",
    "    inputs = {\"pred_data\": data}\n",
    "\n",
    "    workflow = remote.fetch_workflow(name=\"workflows.workflows.batch_prediction_knn\")\n",
    "    execution = remote.execute(workflow, inputs=inputs, wait=True) # wait=True will block until the execution is complete\n",
    "\n",
    "    # print(execution.outputs)\n",
    "\n",
    "    return execution.outputs['o0']"
   ]
  },
  {
   "cell_type": "code",
   "execution_count": 10,
   "metadata": {},
   "outputs": [
    {
     "name": "stdout",
     "output_type": "stream",
     "text": [
      "[0]\n"
     ]
    }
   ],
   "source": [
    "print(predict_with_container([[5.1, 3.5, 1.4, 0.2]]))"
   ]
  },
  {
   "cell_type": "markdown",
   "metadata": {},
   "source": [
    "### ⚡ Enabling Near Real-time Predictions with Actors\n",
    "\n",
    "Union [Actors](https://docs.union.ai/serverless/user-guide/core-concepts/actors/#actors) dramatically reduce the cost of cold starts by maintaining long-running stateful environments that stay ready for use until a defined time-to-live (TTL). This persistent setup eliminates redundant initialization and unlocks several key benefits:\n",
    "\n"
   ]
  },
  {
   "cell_type": "code",
   "execution_count": 30,
   "metadata": {},
   "outputs": [],
   "source": [
    "def predict_with_actors(data):\n",
    "\n",
    "    inputs = {\"pred_data\": data}\n",
    "\n",
    "    workflow = remote.fetch_workflow(name=\"workflows.workflows.actor_prediction_knn\")\n",
    "    execution = remote.execute(workflow, inputs=inputs, wait=True) # wait=True will block until the execution is complete\n",
    "\n",
    "    # print(execution.outputs)\n",
    "\n",
    "    return execution.outputs['o0']"
   ]
  },
  {
   "cell_type": "code",
   "execution_count": 31,
   "metadata": {},
   "outputs": [
    {
     "data": {
      "text/html": [
       "<pre style=\"white-space:pre;overflow-x:auto;line-height:normal;font-family:Menlo,'DejaVu Sans Mono',consolas,'Courier New',monospace\"><span style=\"color: #800000; text-decoration-color: #800000\">╭─────────────────────────────────────── </span><span style=\"color: #800000; text-decoration-color: #800000; font-weight: bold\">Traceback </span><span style=\"color: #bf7f7f; text-decoration-color: #bf7f7f; font-weight: bold\">(most recent call last)</span><span style=\"color: #800000; text-decoration-color: #800000\"> ───────────────────────────────────────╮</span>\n",
       "<span style=\"color: #800000; text-decoration-color: #800000\">│</span> in <span style=\"color: #00ff00; text-decoration-color: #00ff00\">&lt;module&gt;</span>:<span style=\"color: #0000ff; text-decoration-color: #0000ff\">1</span>                                                                                                   <span style=\"color: #800000; text-decoration-color: #800000\">│</span>\n",
       "<span style=\"color: #800000; text-decoration-color: #800000\">│</span>                                                                                                                 <span style=\"color: #800000; text-decoration-color: #800000\">│</span>\n",
       "<span style=\"color: #800000; text-decoration-color: #800000\">│</span> <span style=\"color: #800000; text-decoration-color: #800000\">❱ </span>1 <span style=\"color: #00ffff; text-decoration-color: #00ffff\">print</span>(predict_with_actors([[<span style=\"color: #0000ff; text-decoration-color: #0000ff\">5.1</span>, <span style=\"color: #0000ff; text-decoration-color: #0000ff\">3.5</span>, <span style=\"color: #0000ff; text-decoration-color: #0000ff\">1.4</span>, <span style=\"color: #0000ff; text-decoration-color: #0000ff\">0.2</span>]]))                                                          <span style=\"color: #800000; text-decoration-color: #800000\">│</span>\n",
       "<span style=\"color: #800000; text-decoration-color: #800000\">│</span>                                                                                                                 <span style=\"color: #800000; text-decoration-color: #800000\">│</span>\n",
       "<span style=\"color: #800000; text-decoration-color: #800000\">│</span> in <span style=\"color: #00ff00; text-decoration-color: #00ff00\">predict_with_actors</span>:<span style=\"color: #0000ff; text-decoration-color: #0000ff\">5</span>                                                                                        <span style=\"color: #800000; text-decoration-color: #800000\">│</span>\n",
       "<span style=\"color: #800000; text-decoration-color: #800000\">│</span>                                                                                                                 <span style=\"color: #800000; text-decoration-color: #800000\">│</span>\n",
       "<span style=\"color: #800000; text-decoration-color: #800000\">│</span> <span style=\"color: #800000; text-decoration-color: #800000\">❱ </span> 5 <span style=\"color: #7f7f7f; text-decoration-color: #7f7f7f\">│   </span>workflow = remote.fetch_workflow(name=<span style=\"color: #808000; text-decoration-color: #808000\">\"workflows.workflows.actor_model_predict\"</span>)                       <span style=\"color: #800000; text-decoration-color: #800000\">│</span>\n",
       "<span style=\"color: #800000; text-decoration-color: #800000\">│</span>                                                                                                                 <span style=\"color: #800000; text-decoration-color: #800000\">│</span>\n",
       "<span style=\"color: #800000; text-decoration-color: #800000\">│</span> <span style=\"color: #bfbf7f; text-decoration-color: #bfbf7f\">/Users/sageelliott/.pyenv/versions/3.11.9/lib/python3.11/site-packages/flytekit/remote/</span><span style=\"color: #808000; text-decoration-color: #808000; font-weight: bold\">remote.py</span>:<span style=\"color: #0000ff; text-decoration-color: #0000ff\">470</span> in         <span style=\"color: #800000; text-decoration-color: #800000\">│</span>\n",
       "<span style=\"color: #800000; text-decoration-color: #800000\">│</span> <span style=\"color: #00ff00; text-decoration-color: #00ff00\">fetch_workflow</span>                                                                                                  <span style=\"color: #800000; text-decoration-color: #800000\">│</span>\n",
       "<span style=\"color: #800000; text-decoration-color: #800000\">│</span>                                                                                                                 <span style=\"color: #800000; text-decoration-color: #800000\">│</span>\n",
       "<span style=\"color: #800000; text-decoration-color: #800000\">│</span> <span style=\"color: #800000; text-decoration-color: #800000\">❱ </span> 470 <span style=\"color: #7f7f7f; text-decoration-color: #7f7f7f\">│   │   </span>workflow_id = _get_entity_identifier(                                                            <span style=\"color: #800000; text-decoration-color: #800000\">│</span>\n",
       "<span style=\"color: #800000; text-decoration-color: #800000\">│</span>                                                                                                                 <span style=\"color: #800000; text-decoration-color: #800000\">│</span>\n",
       "<span style=\"color: #800000; text-decoration-color: #800000\">│</span> <span style=\"color: #bfbf7f; text-decoration-color: #bfbf7f\">/Users/sageelliott/.pyenv/versions/3.11.9/lib/python3.11/site-packages/flytekit/remote/</span><span style=\"color: #808000; text-decoration-color: #808000; font-weight: bold\">remote.py</span>:<span style=\"color: #0000ff; text-decoration-color: #0000ff\">169</span> in         <span style=\"color: #800000; text-decoration-color: #800000\">│</span>\n",
       "<span style=\"color: #800000; text-decoration-color: #800000\">│</span> <span style=\"color: #00ff00; text-decoration-color: #00ff00\">_get_entity_identifier</span>                                                                                          <span style=\"color: #800000; text-decoration-color: #800000\">│</span>\n",
       "<span style=\"color: #800000; text-decoration-color: #800000\">│</span>                                                                                                                 <span style=\"color: #800000; text-decoration-color: #800000\">│</span>\n",
       "<span style=\"color: #800000; text-decoration-color: #800000\">│</span> <span style=\"color: #800000; text-decoration-color: #800000\">❱ </span> 169 <span style=\"color: #7f7f7f; text-decoration-color: #7f7f7f\">│   │   </span>version = _get_latest_version(list_entities_method, project, domain, name)                       <span style=\"color: #800000; text-decoration-color: #800000\">│</span>\n",
       "<span style=\"color: #800000; text-decoration-color: #800000\">│</span>                                                                                                                 <span style=\"color: #800000; text-decoration-color: #800000\">│</span>\n",
       "<span style=\"color: #800000; text-decoration-color: #800000\">│</span> <span style=\"color: #bfbf7f; text-decoration-color: #bfbf7f\">/Users/sageelliott/.pyenv/versions/3.11.9/lib/python3.11/site-packages/flytekit/remote/</span><span style=\"color: #808000; text-decoration-color: #808000; font-weight: bold\">remote.py</span>:<span style=\"color: #0000ff; text-decoration-color: #0000ff\">156</span> in         <span style=\"color: #800000; text-decoration-color: #800000\">│</span>\n",
       "<span style=\"color: #800000; text-decoration-color: #800000\">│</span> <span style=\"color: #00ff00; text-decoration-color: #00ff00\">_get_latest_version</span>                                                                                             <span style=\"color: #800000; text-decoration-color: #800000\">│</span>\n",
       "<span style=\"color: #800000; text-decoration-color: #800000\">│</span>                                                                                                                 <span style=\"color: #800000; text-decoration-color: #800000\">│</span>\n",
       "<span style=\"color: #800000; text-decoration-color: #800000\">│</span> <span style=\"color: #800000; text-decoration-color: #800000\">❱ </span> 156 <span style=\"color: #7f7f7f; text-decoration-color: #7f7f7f\">│   │   </span><span style=\"color: #0000ff; text-decoration-color: #0000ff\">raise</span> user_exceptions.FlyteEntityNotExistException(<span style=\"color: #808000; text-decoration-color: #808000\">\"Named entity {} not found\"</span>.f                 <span style=\"color: #800000; text-decoration-color: #800000\">│</span>\n",
       "<span style=\"color: #800000; text-decoration-color: #800000\">╰─────────────────────────────────────────────────────────────────────────────────────────────────────────────────╯</span>\n",
       "<span style=\"color: #ff0000; text-decoration-color: #ff0000; font-weight: bold\">FlyteEntityNotExistException: </span>USER:EntityNotExist: <span style=\"color: #808000; text-decoration-color: #808000\">error</span>=<span style=\"color: #800080; text-decoration-color: #800080\">Named</span> entity Flyte Serialized object \n",
       "<span style=\"font-weight: bold\">(</span>NamedEntityIdentifier<span style=\"font-weight: bold\">)</span>:\n",
       "  project: default\n",
       "  domain: development\n",
       "  name: workflows.workflows.actor_model_predict not found\n",
       "</pre>\n"
      ],
      "text/plain": [
       "\u001b[31m╭─\u001b[0m\u001b[31m──────────────────────────────────────\u001b[0m\u001b[31m \u001b[0m\u001b[1;31mTraceback \u001b[0m\u001b[1;2;31m(most recent call last)\u001b[0m\u001b[31m \u001b[0m\u001b[31m──────────────────────────────────────\u001b[0m\u001b[31m─╮\u001b[0m\n",
       "\u001b[31m│\u001b[0m in \u001b[92m<module>\u001b[0m:\u001b[94m1\u001b[0m                                                                                                   \u001b[31m│\u001b[0m\n",
       "\u001b[31m│\u001b[0m                                                                                                                 \u001b[31m│\u001b[0m\n",
       "\u001b[31m│\u001b[0m \u001b[31m❱ \u001b[0m1 \u001b[96mprint\u001b[0m(predict_with_actors([[\u001b[94m5.1\u001b[0m, \u001b[94m3.5\u001b[0m, \u001b[94m1.4\u001b[0m, \u001b[94m0.2\u001b[0m]]))                                                          \u001b[31m│\u001b[0m\n",
       "\u001b[31m│\u001b[0m                                                                                                                 \u001b[31m│\u001b[0m\n",
       "\u001b[31m│\u001b[0m in \u001b[92mpredict_with_actors\u001b[0m:\u001b[94m5\u001b[0m                                                                                        \u001b[31m│\u001b[0m\n",
       "\u001b[31m│\u001b[0m                                                                                                                 \u001b[31m│\u001b[0m\n",
       "\u001b[31m│\u001b[0m \u001b[31m❱ \u001b[0m 5 \u001b[2m│   \u001b[0mworkflow = remote.fetch_workflow(name=\u001b[33m\"\u001b[0m\u001b[33mworkflows.workflows.actor_model_predict\u001b[0m\u001b[33m\"\u001b[0m)                       \u001b[31m│\u001b[0m\n",
       "\u001b[31m│\u001b[0m                                                                                                                 \u001b[31m│\u001b[0m\n",
       "\u001b[31m│\u001b[0m \u001b[2;33m/Users/sageelliott/.pyenv/versions/3.11.9/lib/python3.11/site-packages/flytekit/remote/\u001b[0m\u001b[1;33mremote.py\u001b[0m:\u001b[94m470\u001b[0m in         \u001b[31m│\u001b[0m\n",
       "\u001b[31m│\u001b[0m \u001b[92mfetch_workflow\u001b[0m                                                                                                  \u001b[31m│\u001b[0m\n",
       "\u001b[31m│\u001b[0m                                                                                                                 \u001b[31m│\u001b[0m\n",
       "\u001b[31m│\u001b[0m \u001b[31m❱ \u001b[0m 470 \u001b[2m│   │   \u001b[0mworkflow_id = _get_entity_identifier(                                                            \u001b[31m│\u001b[0m\n",
       "\u001b[31m│\u001b[0m                                                                                                                 \u001b[31m│\u001b[0m\n",
       "\u001b[31m│\u001b[0m \u001b[2;33m/Users/sageelliott/.pyenv/versions/3.11.9/lib/python3.11/site-packages/flytekit/remote/\u001b[0m\u001b[1;33mremote.py\u001b[0m:\u001b[94m169\u001b[0m in         \u001b[31m│\u001b[0m\n",
       "\u001b[31m│\u001b[0m \u001b[92m_get_entity_identifier\u001b[0m                                                                                          \u001b[31m│\u001b[0m\n",
       "\u001b[31m│\u001b[0m                                                                                                                 \u001b[31m│\u001b[0m\n",
       "\u001b[31m│\u001b[0m \u001b[31m❱ \u001b[0m 169 \u001b[2m│   │   \u001b[0mversion = _get_latest_version(list_entities_method, project, domain, name)                       \u001b[31m│\u001b[0m\n",
       "\u001b[31m│\u001b[0m                                                                                                                 \u001b[31m│\u001b[0m\n",
       "\u001b[31m│\u001b[0m \u001b[2;33m/Users/sageelliott/.pyenv/versions/3.11.9/lib/python3.11/site-packages/flytekit/remote/\u001b[0m\u001b[1;33mremote.py\u001b[0m:\u001b[94m156\u001b[0m in         \u001b[31m│\u001b[0m\n",
       "\u001b[31m│\u001b[0m \u001b[92m_get_latest_version\u001b[0m                                                                                             \u001b[31m│\u001b[0m\n",
       "\u001b[31m│\u001b[0m                                                                                                                 \u001b[31m│\u001b[0m\n",
       "\u001b[31m│\u001b[0m \u001b[31m❱ \u001b[0m 156 \u001b[2m│   │   \u001b[0m\u001b[94mraise\u001b[0m user_exceptions.FlyteEntityNotExistException(\u001b[33m\"\u001b[0m\u001b[33mNamed entity \u001b[0m\u001b[33m{}\u001b[0m\u001b[33m not found\u001b[0m\u001b[33m\"\u001b[0m.f                 \u001b[31m│\u001b[0m\n",
       "\u001b[31m╰─────────────────────────────────────────────────────────────────────────────────────────────────────────────────╯\u001b[0m\n",
       "\u001b[1;91mFlyteEntityNotExistException: \u001b[0mUSER:EntityNotExist: \u001b[33merror\u001b[0m=\u001b[35mNamed\u001b[0m entity Flyte Serialized object \n",
       "\u001b[1m(\u001b[0mNamedEntityIdentifier\u001b[1m)\u001b[0m:\n",
       "  project: default\n",
       "  domain: development\n",
       "  name: workflows.workflows.actor_model_predict not found\n"
      ]
     },
     "metadata": {},
     "output_type": "display_data"
    }
   ],
   "source": [
    "print(predict_with_actors([[5.1, 3.5, 1.4, 0.2]]))"
   ]
  },
  {
   "cell_type": "code",
   "execution_count": 13,
   "metadata": {},
   "outputs": [
    {
     "name": "stdout",
     "output_type": "stream",
     "text": [
      "[0]\n"
     ]
    }
   ],
   "source": [
    "print(predict_with_actors([[5.1, 3.5, 1.4, 0.2]]))"
   ]
  },
  {
   "cell_type": "code",
   "execution_count": 14,
   "metadata": {},
   "outputs": [
    {
     "name": "stdout",
     "output_type": "stream",
     "text": [
      "[0]\n"
     ]
    }
   ],
   "source": [
    "print(predict_with_actors([[5.1, 3.5, 1.4, 0.2]]))"
   ]
  },
  {
   "cell_type": "code",
   "execution_count": null,
   "metadata": {},
   "outputs": [],
   "source": [
    "# !union run --remote workflows/workflows.py actor_prediction_knn"
   ]
  },
  {
   "cell_type": "code",
   "execution_count": null,
   "metadata": {},
   "outputs": [],
   "source": []
  },
  {
   "cell_type": "markdown",
   "metadata": {},
   "source": [
    "### Build an application with Streamlit & Union Serving\n",
    "\n",
    "Full app serving coming soon! "
   ]
  },
  {
   "cell_type": "code",
   "execution_count": null,
   "metadata": {},
   "outputs": [],
   "source": [
    "# Enable union serving\n",
    "# !export ENABLE_UNION_SERVING=1"
   ]
  },
  {
   "cell_type": "code",
   "execution_count": 25,
   "metadata": {},
   "outputs": [
    {
     "name": "stdout",
     "output_type": "stream",
     "text": [
      "\u001b[34mImage union-serve-iris-streamlit:xVX848FiI6_Ko8MTry9Ipw found. Skip building.\u001b[0m\n",
      "✨ Deploying Application: \u001b]8;id=85184;https://serverless.union.ai/org/sagecodes/projects/default/domains/development/apps/simple-streamlit-iris\u001b\\simple-streamlit-iris\u001b]8;;\u001b\\\n",
      "🔎 Console URL: \n",
      "\u001b]8;id=538170;https://serverless.union.ai/org/sagecodes/projects/default/domains/development/apps/simple-streamlit-iris\u001b\\\u001b[4;94mhttps://serverless.union.ai/org/sagecodes/projects/default/domains/development/a\u001b[0m\u001b]8;;\u001b\\\n",
      "\u001b]8;id=538170;https://serverless.union.ai/org/sagecodes/projects/default/domains/development/apps/simple-streamlit-iris\u001b\\\u001b[4;94mpps/simple-streamlit-iris\u001b[0m\u001b]8;;\u001b\\\n",
      "\u001b[1m[\u001b[0m\u001b[1mStatus\u001b[0m\u001b[1m]\u001b[0m \u001b[3mPending:\u001b[0m OutOfDate: The Route is still working to reflect the latest \n",
      "desired specification.\n",
      "\u001b[1m[\u001b[0m\u001b[1mStatus\u001b[0m\u001b[1m]\u001b[0m \u001b[3mPending:\u001b[0m RevisionMissing: Configuration \n",
      "\u001b[32m\"default-development-simple-streamlit-iris\"\u001b[0m is waiting for a Revision to become \n",
      "ready.\n",
      "\u001b[1m[\u001b[0m\u001b[1mStatus\u001b[0m\u001b[1m]\u001b[0m \u001b[3mPending:\u001b[0m IngressNotConfigured: Ingress has not yet been reconciled.\n",
      "\u001b[1m[\u001b[0m\u001b[1mStatus\u001b[0m\u001b[1m]\u001b[0m \u001b[3mPending:\u001b[0m Uninitialized: Waiting for load balancer to be ready\n",
      "\u001b[1m[\u001b[0m\u001b[1mStatus\u001b[0m\u001b[1m]\u001b[0m \u001b[3mStarted:\u001b[0m Service is ready\n",
      "\n",
      "🚀 Deployed Endpoint: \n",
      "\u001b]8;id=246799;https://nameless-paper-e5dea.apps.serverless-1.us-east-2.s.union.ai\u001b\\\u001b[4;94mhttps://nameless-paper-e5dea.apps.serverless-1.us-east-2.s.union.ai\u001b[0m\u001b]8;;\u001b\\\n"
     ]
    }
   ],
   "source": [
    "!union deploy apps app.py simple-streamlit-iris"
   ]
  },
  {
   "cell_type": "code",
   "execution_count": null,
   "metadata": {},
   "outputs": [],
   "source": [
    "# generate api key to use Union remote on external hosting.\n",
    "!union create api-key admin --name gradio-hf-app"
   ]
  },
  {
   "cell_type": "markdown",
   "metadata": {},
   "source": [
    "## Learn More About Union and Building AI Pipelines:"
   ]
  },
  {
   "cell_type": "markdown",
   "metadata": {},
   "source": [
    "We hope you had funand learned something new from this tutorial on building ML pipelines with Union! Creating reproducible AI workflows is a powerful way to increase productivity and collaboration accross your team. And an essential part of MLOps for deploying and managing machine learning models in production.\n",
    "\n",
    "To learn more about Union and building AI pipelines: \n",
    "- Check out the [Union Documentation](https://docs.union.ai/).\n",
    "- Contact us at [Union.ai](https://union.ai) for a demo or to learn more about Union Enterprise.\n",
    "- Join our Slack community to ask questions and share your projects with other Union users.\n",
    "\n",
    "\n",
    "\n"
   ]
  },
  {
   "cell_type": "markdown",
   "metadata": {},
   "source": []
  }
 ],
 "metadata": {
  "kernelspec": {
   "display_name": "3.11.9",
   "language": "python",
   "name": "python3"
  },
  "language_info": {
   "codemirror_mode": {
    "name": "ipython",
    "version": 3
   },
   "file_extension": ".py",
   "mimetype": "text/x-python",
   "name": "python",
   "nbconvert_exporter": "python",
   "pygments_lexer": "ipython3",
   "version": "3.11.9"
  }
 },
 "nbformat": 4,
 "nbformat_minor": 2
}
